{
 "cells": [
  {
   "cell_type": "markdown",
   "id": "cd6ba846-132f-4726-92b8-d7d24af5893a",
   "metadata": {},
   "source": [
    "# Clone the repository"
   ]
  },
  {
   "cell_type": "code",
   "execution_count": 56,
   "id": "df4d4fbd-09e1-47df-a8e6-500ed9badd15",
   "metadata": {},
   "outputs": [
    {
     "name": "stdout",
     "output_type": "stream",
     "text": [
      "The autoreload extension is already loaded. To reload it, use:\n",
      "  %reload_ext autoreload\n"
     ]
    }
   ],
   "source": [
    "%load_ext autoreload\n",
    "import os \n",
    "import sys \n",
    "from IPython.display import display, clear_output \n",
    "module = \"hds\""
   ]
  },
  {
   "cell_type": "code",
   "execution_count": 57,
   "id": "f007d6e0-f2ca-46ea-814d-c18c83fb206f",
   "metadata": {},
   "outputs": [],
   "source": [
    "if not os.path.exists(module):\n",
    "    !git clone https://github.com/tiagodsilva/$module \n",
    "    !mv $module/data . "
   ]
  },
  {
   "cell_type": "code",
   "execution_count": 58,
   "id": "03170691-5d00-4170-b33f-098c813c1061",
   "metadata": {},
   "outputs": [],
   "source": [
    "# Install packages\n",
    "cmd = f\"pip install -r {module}/requirements.txt\"\n",
    "status = os.system(cmd) \n",
    "if status == 0: \n",
    "    clear_output() "
   ]
  },
  {
   "cell_type": "code",
   "execution_count": 115,
   "id": "8ad01f4d-a41f-4e87-82f9-29dcf84c77a6",
   "metadata": {},
   "outputs": [],
   "source": [
    "%autoreload \n",
    "import numpy as np \n",
    "import torch \n",
    "import yaml \n",
    "sys.path.append(module) \n",
    "from vihds.config import Config, Trainer \n",
    "from vihds.datasets import build_datasets \n",
    "from vihds.parameters import Parameters \n",
    "from vihds.training import Training \n",
    "from vihds.xval import XvalMerge \n",
    "from vihds.vae import build_model "
   ]
  },
  {
   "cell_type": "code",
   "execution_count": 116,
   "id": "252c6a79-b7ae-4133-87cb-bfbd5d942121",
   "metadata": {},
   "outputs": [],
   "source": [
    "# Users' parameters \n",
    "specs = f\"{module}/specs/dr_constant_icml.yaml\" \n",
    "experiment = \"EXAMPLE\" \n",
    "seed = 42             # The RNG seed\n",
    "epochs = 1            # Training epochs\n",
    "test_epoch = 20       # Test epochs\n",
    "plot_epoch = 100      # Plot epochs\n",
    "train_samples = 20    # Training samples (per datapoint)\n",
    "test_samples = 20     # Testing samples (per datapoint) \n",
    "dreg = True           # DReG estimator \n",
    "precision_hidden_layers = None      # Quantity of hidden layers\n",
    "use_gpu = torch.cuda.is_available() # Use GPU \n",
    "folds = 4                           # Cross-validation folds \n",
    "# Attributes to evauate the models' accuracy \n",
    "heldout = None         # A heldout device (as R33S32_Y81C76) \n",
    "split = 1              # Split for cross-validation in heldout \n",
    "figures = True         # Whether to draw figures \n",
    "verbose = True         # Increase the volume in stdout "
   ]
  },
  {
   "cell_type": "code",
   "execution_count": 117,
   "id": "ee6ec9db-6b19-47db-ad37-3ed022d194f4",
   "metadata": {},
   "outputs": [],
   "source": [
    "# Display the models' specifications\n",
    "model_specs = yaml.load(open(specs, \"r\"), \n",
    "                    Loader=yaml.loader.SafeLoader) \n",
    "# print(yaml.dump(model_specs)) "
   ]
  },
  {
   "cell_type": "code",
   "execution_count": 118,
   "id": "53794374-baaa-4215-9622-ede89b41dc85",
   "metadata": {},
   "outputs": [],
   "source": [
    "class Namespace(object): \n",
    "    def __init__(self, **kwargs): \n",
    "        for key, val in kwargs.items(): \n",
    "            self.__dict__[key] = val "
   ]
  },
  {
   "cell_type": "code",
   "execution_count": 119,
   "id": "edcd985b-55ad-4a4e-a29f-8fb151a87c7f",
   "metadata": {},
   "outputs": [],
   "source": [
    "args = Namespace( \n",
    "    yaml=specs, \n",
    "    experiment=experiment,\n",
    "    seed=seed, \n",
    "    epochs=epochs, \n",
    "    test_epoch=test_epoch, \n",
    "    plot_epoch=plot_epoch, \n",
    "    train_samples=train_samples,\n",
    "    test_samples=test_samples,\n",
    "    dreg=dreg,\n",
    "    precision_hidden_layers=precision_hidden_layers,\n",
    "    gpu=torch.cuda.current_device() if use_gpu else \"cpu\", \n",
    "    folds=folds, \n",
    "    heldout=heldout, \n",
    "    split=split, \n",
    "    figures=figures, \n",
    "    verbose=verbose\n",
    ") "
   ]
  },
  {
   "cell_type": "code",
   "execution_count": 120,
   "id": "98cfc00b-96d1-4053-9169-53eb193263a1",
   "metadata": {},
   "outputs": [],
   "source": [
    "def run_on_split(args: Namespace, \n",
    "                 settings: Namespace, \n",
    "                 split: bool=None): \n",
    "    \"\"\"\n",
    "    Execute a training-testing split. \n",
    "    \"\"\"\n",
    "    data = build_datasets(args, settings) \n",
    "    parameters = Parameters(settings.params) \n",
    "    model = build_model(args, settings, data, parameters) \n",
    "    training = Training(args, settings, data, parameters, model) \n",
    "    # Return the data and the evaluations for the current epoch\n",
    "    return data, training.run() "
   ]
  },
  {
   "cell_type": "code",
   "execution_count": 121,
   "id": "5695590e-d2d1-49ae-b4a6-5adfc402d169",
   "metadata": {},
   "outputs": [],
   "source": [
    "def train(args: Namespace): \n",
    "    settings = Config(args) \n",
    "    settings.trainer = Trainer(args, add_timestamp=True) \n",
    "    data_pair, val_results = run_on_split(args, settings) \n",
    "    \n",
    "    if (val_results is not None) and settings.trainer is not None: \n",
    "        xval_merge = XvalMerge(args, settings) \n",
    "        xval_merge.add(1, data_pair, val_results) \n",
    "        xval_merge.finalize() \n",
    "        xval_merge.save() \n",
    "        xval_merge.mark_completed(args.experiment) \n",
    "        if args.figures: \n",
    "            xval_merge.make_writer() \n",
    "            xval_merge.make_images() \n",
    "            xval_merge.close_writer() "
   ]
  },
  {
   "cell_type": "code",
   "execution_count": 122,
   "id": "7e00dde6-3f04-458e-a5ee-a6d4259ef30c",
   "metadata": {},
   "outputs": [
    {
     "name": "stdout",
     "output_type": "stream",
     "text": [
      "Processing command-line arguments\n",
      "- <__main__.Namespace object at 0x7f9e3d8d68e0>\n",
      "- Setting test_epoch to 1\n",
      "- Setting plot_epoch to 1\n",
      "- Setting: np.random.seed(42)\n",
      "- Setting: torch.manual_seed(42)\n",
      "- GPU mode computation\n"
     ]
    },
    {
     "name": "stderr",
     "output_type": "stream",
     "text": [
      "hds/vihds/datasets.py:137: VisibleDeprecationWarning: Creating an ndarray from ragged nested sequences (which is a list-or-tuple of lists-or-tuples-or ndarrays with different lengths or shapes) is deprecated. If you meant to do this, you must specify 'dtype=object' when creating the ndarray.\n",
      "  times_arr = np.asarray(times_list)\n",
      "hds/vihds/datasets.py:138: VisibleDeprecationWarning: Creating an ndarray from ragged nested sequences (which is a list-or-tuple of lists-or-tuples-or ndarrays with different lengths or shapes) is deprecated. If you meant to do this, you must specify 'dtype=object' when creating the ndarray.\n",
      "  obs_arr = np.asarray(observations_list)\n"
     ]
    },
    {
     "name": "stdout",
     "output_type": "stream",
     "text": [
      "Initialising encoder\n",
      "Initialising decoder\n",
      "---------------------------\n",
      "Training: split 1 of 4\n"
     ]
    },
    {
     "name": "stderr",
     "output_type": "stream",
     "text": [
      "  0%| | 0/"
     ]
    },
    {
     "name": "stdout",
     "output_type": "stream",
     "text": [
      "epoch    1 | train (iwae-elbo = -7252.9907, time = 3.17, total = 3.17)"
     ]
    },
    {
     "name": "stderr",
     "output_type": "stream",
     "text": [
      "100%|█| 1/"
     ]
    },
    {
     "name": "stdout",
     "output_type": "stream",
     "text": [
      " | val (iwae-elbo = -7554.3672, time = 5.97, total = 5.97)\n",
      "Preparing cross-validation results\n",
      "Saving results to results/EXAMPLE_20220813T222914592234\n",
      "Saving to: results/EXAMPLE_20220813T222914592234\n",
      "Making summary figure\n"
     ]
    },
    {
     "name": "stderr",
     "output_type": "stream",
     "text": [
      "\n",
      "/home/tiago/anaconda3/envs/viewer/envs/vihds/lib/python3.8/site-packages/numpy/lib/npyio.py:501: VisibleDeprecationWarning: Creating an ndarray from ragged nested sequences (which is a list-or-tuple of lists-or-tuples-or ndarrays with different lengths or shapes) is deprecated. If you meant to do this, you must specify 'dtype=object' when creating the ndarray.\n",
      "  arr = np.asanyarray(arr)\n"
     ]
    },
    {
     "name": "stdout",
     "output_type": "stream",
     "text": [
      "Making treatment figure\n"
     ]
    },
    {
     "name": "stderr",
     "output_type": "stream",
     "text": [
      "hds/vihds/plotting.py:255: UserWarning: color is redundantly defined by the 'color' keyword argument and the fmt string \"kx\" (-> color='k'). The keyword argument will take precedence.\n",
      "  ax.semilogx(\n"
     ]
    },
    {
     "name": "stdout",
     "output_type": "stream",
     "text": [
      "Making species figure\n",
      "Making global parameters figure\n",
      "-  ['prec_x', 'prec_rfp', 'prec_yfp', 'prec_cfp', 'e76', 'e81', 'KGR_76', 'KGR_81', 'KGS_76', 'KGS_81', 'KR6', 'KR12', 'KS6', 'KS12', 'nR', 'nS', 'aYFP', 'aCFP', 'dR', 'dS', 'drfp', 'dyfp', 'dcfp', 'a530', 'a480']\n",
      "Making variable parameters figure\n",
      "-  ['r', 'K', 'tlag', 'rc']\n",
      "Making summary device figures\n",
      "- Pcat-Pcat\n",
      "- R100-S32\n",
      "- R100-S34\n",
      "- R33-S32\n",
      "- R33-S34\n",
      "- R33-S175\n",
      "Making individual device figures\n",
      "- Pcat-Pcat\n",
      "- R100-S32\n",
      "- R100-S34\n",
      "- R33-S32\n",
      "- R33-S34\n",
      "- R33-S175\n"
     ]
    }
   ],
   "source": [
    "train(args) "
   ]
  }
 ],
 "metadata": {
  "kernelspec": {
   "display_name": "Python 3 (ipykernel)",
   "language": "python",
   "name": "python3"
  },
  "language_info": {
   "codemirror_mode": {
    "name": "ipython",
    "version": 3
   },
   "file_extension": ".py",
   "mimetype": "text/x-python",
   "name": "python",
   "nbconvert_exporter": "python",
   "pygments_lexer": "ipython3",
   "version": "3.8.3"
  }
 },
 "nbformat": 4,
 "nbformat_minor": 5
}
